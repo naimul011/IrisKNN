{
 "cells": [
  {
   "cell_type": "code",
   "execution_count": 129,
   "metadata": {},
   "outputs": [
    {
     "data": {
      "text/html": [
       "<div>\n",
       "<style>\n",
       "    .dataframe thead tr:only-child th {\n",
       "        text-align: right;\n",
       "    }\n",
       "\n",
       "    .dataframe thead th {\n",
       "        text-align: left;\n",
       "    }\n",
       "\n",
       "    .dataframe tbody tr th {\n",
       "        vertical-align: top;\n",
       "    }\n",
       "</style>\n",
       "<table border=\"1\" class=\"dataframe\">\n",
       "  <thead>\n",
       "    <tr style=\"text-align: right;\">\n",
       "      <th></th>\n",
       "      <th>Id</th>\n",
       "      <th>SepalLengthCm</th>\n",
       "      <th>SepalWidthCm</th>\n",
       "      <th>PetalLengthCm</th>\n",
       "      <th>PetalWidthCm</th>\n",
       "      <th>Species</th>\n",
       "    </tr>\n",
       "  </thead>\n",
       "  <tbody>\n",
       "    <tr>\n",
       "      <th>0</th>\n",
       "      <td>1</td>\n",
       "      <td>5.1</td>\n",
       "      <td>3.5</td>\n",
       "      <td>1.4</td>\n",
       "      <td>0.2</td>\n",
       "      <td>Iris-setosa</td>\n",
       "    </tr>\n",
       "    <tr>\n",
       "      <th>1</th>\n",
       "      <td>2</td>\n",
       "      <td>4.9</td>\n",
       "      <td>3.0</td>\n",
       "      <td>1.4</td>\n",
       "      <td>0.2</td>\n",
       "      <td>Iris-setosa</td>\n",
       "    </tr>\n",
       "    <tr>\n",
       "      <th>2</th>\n",
       "      <td>3</td>\n",
       "      <td>4.7</td>\n",
       "      <td>3.2</td>\n",
       "      <td>1.3</td>\n",
       "      <td>0.2</td>\n",
       "      <td>Iris-setosa</td>\n",
       "    </tr>\n",
       "    <tr>\n",
       "      <th>3</th>\n",
       "      <td>4</td>\n",
       "      <td>4.6</td>\n",
       "      <td>3.1</td>\n",
       "      <td>1.5</td>\n",
       "      <td>0.2</td>\n",
       "      <td>Iris-setosa</td>\n",
       "    </tr>\n",
       "    <tr>\n",
       "      <th>4</th>\n",
       "      <td>5</td>\n",
       "      <td>5.0</td>\n",
       "      <td>3.6</td>\n",
       "      <td>1.4</td>\n",
       "      <td>0.2</td>\n",
       "      <td>Iris-setosa</td>\n",
       "    </tr>\n",
       "  </tbody>\n",
       "</table>\n",
       "</div>"
      ],
      "text/plain": [
       "   Id  SepalLengthCm  SepalWidthCm  PetalLengthCm  PetalWidthCm      Species\n",
       "0   1            5.1           3.5            1.4           0.2  Iris-setosa\n",
       "1   2            4.9           3.0            1.4           0.2  Iris-setosa\n",
       "2   3            4.7           3.2            1.3           0.2  Iris-setosa\n",
       "3   4            4.6           3.1            1.5           0.2  Iris-setosa\n",
       "4   5            5.0           3.6            1.4           0.2  Iris-setosa"
      ]
     },
     "execution_count": 129,
     "metadata": {},
     "output_type": "execute_result"
    }
   ],
   "source": [
    "import numpy as np\n",
    "import pandas as pd\n",
    "import operator\n",
    "\n",
    "# Importing the dataset\n",
    "dataset = pd.read_csv('Iris.csv')\n",
    "dataset.shape\n",
    "\n",
    "dataset.head(5)"
   ]
  },
  {
   "cell_type": "code",
   "execution_count": 130,
   "metadata": {
    "scrolled": true
   },
   "outputs": [],
   "source": [
    "feature_columns = ['SepalLengthCm', 'SepalWidthCm', 'PetalLengthCm','PetalWidthCm']\n",
    "X = dataset[feature_columns].values\n",
    "y = dataset['Species'].values"
   ]
  },
  {
   "cell_type": "code",
   "execution_count": 131,
   "metadata": {
    "collapsed": true
   },
   "outputs": [],
   "source": [
    "from sklearn.preprocessing import LabelEncoder\n",
    "le = LabelEncoder()\n",
    "y = le.fit_transform(y)"
   ]
  },
  {
   "cell_type": "code",
   "execution_count": 132,
   "metadata": {},
   "outputs": [],
   "source": [
    "#My implementaion of the Knn clasifier\n",
    "\n",
    "def calcDistance(inX, dataSet, labels, k):\n",
    "    \n",
    "    dataSetSize = dataSet.shape[0]  \n",
    "\n",
    "    diffMat = np.tile(inX, (dataSetSize, 1)) - dataSet\n",
    "\n",
    "    sqDiffMat = diffMat ** 2\n",
    "\n",
    "    sqDistances = sqDiffMat.sum(axis=1)\n",
    "\n",
    "    distances = sqDistances ** 0.5\n",
    "\n",
    "\n",
    "    sortedDistIndices = distances.argsort()\n",
    "    return sortedDistIndices\n",
    "\n",
    "def majority_element(num_list):\n",
    "        idx, ctr = 0, 1\n",
    "        \n",
    "        for i in range(1, len(num_list)):\n",
    "            if num_list[idx] == num_list[i]:\n",
    "                ctr += 1\n",
    "            else:\n",
    "                ctr -= 1\n",
    "                if ctr == 0:\n",
    "                    idx = i\n",
    "                    ctr = 1\n",
    "        \n",
    "        return num_list[idx]\n",
    "\n",
    "def findMajorityClass(inX, dataSet, labels, k, sortedDistIndices):\n",
    "    classNeigbors = []\n",
    "    \n",
    "    for i in range(k):\n",
    "        \n",
    "        voteIlabel = labels[sortedDistIndices[i]]\n",
    "        \n",
    "        classNeigbors.append(voteIlabel)\n",
    "\n",
    "    return majority_element(classNeigbors)\n",
    "\n",
    "\n",
    "def classify(inX, dataSet, labels, k):\n",
    "    \n",
    "    sortedDistIndices = calcDistance(inX, dataSet, labels, k)\n",
    "    \n",
    "    mojorityClass = findMajorityClass(inX, dataSet, labels, k, sortedDistIndices)\n",
    "    \n",
    "    return mojorityClass"
   ]
  },
  {
   "cell_type": "code",
   "execution_count": 133,
   "metadata": {},
   "outputs": [],
   "source": [
    "#trainng and testing with my knn classifier\n",
    "def predictWithKnn(testset,dataset,labels,k):\n",
    "    \n",
    "    prediction = []\n",
    "    \n",
    "    for inx in testset:\n",
    "        prediction.append(classify(inx,dataset,labels,k))\n",
    "    return prediction"
   ]
  },
  {
   "cell_type": "code",
   "execution_count": 134,
   "metadata": {},
   "outputs": [],
   "source": [
    "from sklearn.cross_validation import train_test_split\n",
    "X_train, X_test, y_train, y_test = train_test_split(X, y, test_size = 0.2, random_state = 0)"
   ]
  },
  {
   "cell_type": "code",
   "execution_count": 135,
   "metadata": {},
   "outputs": [],
   "source": [
    "#implementation of sklearn knn clasifier\n",
    "from sklearn.model_selection import cross_val_score\n",
    "from sklearn.neighbors import KNeighborsClassifier\n",
    "\n",
    "# Instantiate learning model (k = 3)\n",
    "knnClassifier = KNeighborsClassifier(n_neighbors=3)\n",
    "\n",
    "\n",
    "# Fitting the model\n",
    "knnClassifier.fit(X_train, y_train)\n",
    "\n",
    "#prediction with my sklearn knn\n",
    "pred = knnClassifier.predict(X_test)\n",
    "\n",
    "#prediction with my knn\n",
    "mypred = predictWithKnn(X_test,X_train,y_train,3)\n"
   ]
  },
  {
   "cell_type": "code",
   "execution_count": 136,
   "metadata": {},
   "outputs": [
    {
     "name": "stdout",
     "output_type": "stream",
     "text": [
      "Accuracy of sklearn KNN model is equal 96.67 %.\n",
      "Accuracy of my KNN model is equal 96.67 %.\n"
     ]
    }
   ],
   "source": [
    "from sklearn.metrics import confusion_matrix, accuracy_score\n",
    "sklearn_knn = confusion_matrix(y_test, pred)\n",
    "sklearn_knn\n",
    "\n",
    "my_knn = confusion_matrix(y_test, mypred)\n",
    "my_knn\n",
    "\n",
    "print('Accuracy of sklearn KNN model is equal ' + str(round(accuracy_score(y_test, pred)*100, 2)) + ' %.')\n",
    "\n",
    "\n",
    "print('Accuracy of my KNN model is equal ' + str(round(accuracy_score(y_test, pred)*100, 2)) + ' %.')"
   ]
  },
  {
   "cell_type": "code",
   "execution_count": 137,
   "metadata": {},
   "outputs": [
    {
     "name": "stdout",
     "output_type": "stream",
     "text": [
      "Performance metrix for sklearn KNN classifer\n",
      "             precision    recall  f1-score   support\n",
      "\n",
      "     setosa       1.00      1.00      1.00        11\n",
      " versicolor       1.00      0.92      0.96        13\n",
      "  virginica       0.86      1.00      0.92         6\n",
      "\n",
      "avg / total       0.97      0.97      0.97        30\n",
      "\n",
      "Performance metrix for my KNN classifer\n",
      "             precision    recall  f1-score   support\n",
      "\n",
      "     setosa       1.00      1.00      1.00        11\n",
      " versicolor       1.00      0.92      0.96        13\n",
      "  virginica       0.86      1.00      0.92         6\n",
      "\n",
      "avg / total       0.97      0.97      0.97        30\n",
      "\n"
     ]
    }
   ],
   "source": [
    "from sklearn import metrics\n",
    "\n",
    "print('Performance metrix for sklearn KNN classifer')\n",
    "print(metrics.classification_report(y_test, pred,\n",
    "target_names=['setosa','versicolor','virginica']) )\n",
    "\n",
    "print('Performance metrix for my KNN classifer')\n",
    "print(metrics.classification_report(y_test, mypred,\n",
    "target_names=['setosa','versicolor','virginica']) )"
   ]
  },
  {
   "cell_type": "code",
   "execution_count": null,
   "metadata": {
    "collapsed": true
   },
   "outputs": [],
   "source": []
  }
 ],
 "metadata": {
  "kernelspec": {
   "display_name": "Python 3",
   "language": "python",
   "name": "python3"
  },
  "language_info": {
   "codemirror_mode": {
    "name": "ipython",
    "version": 3
   },
   "file_extension": ".py",
   "mimetype": "text/x-python",
   "name": "python",
   "nbconvert_exporter": "python",
   "pygments_lexer": "ipython3",
   "version": "3.6.3"
  }
 },
 "nbformat": 4,
 "nbformat_minor": 2
}
